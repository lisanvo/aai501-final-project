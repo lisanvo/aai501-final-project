{
 "cells": [
  {
   "cell_type": "code",
   "execution_count": 1,
   "id": "8a0b8e57-dd38-4e84-a581-8ce34af9e5d4",
   "metadata": {
    "tags": []
   },
   "outputs": [],
   "source": [
    "import pandas as pd\n",
    "import matplotlib.pyplot as plt\n",
    "import numpy as np\n",
    "from sklearn import preprocessing\n",
    "from sklearn.preprocessing import StandardScaler\n",
    "from sklearn import svm, tree\n",
    "from sklearn.model_selection import train_test_split\n",
    "from sklearn.metrics import accuracy_score\n",
    "%matplotlib inline"
   ]
  },
  {
   "cell_type": "markdown",
   "id": "b3f787ff-c038-4550-8c9e-f117890de3e7",
   "metadata": {},
   "source": [
    "## Data Preprocessing"
   ]
  },
  {
   "cell_type": "code",
   "execution_count": 2,
   "id": "de54cbde-a086-471b-8ff7-4a8a319a4b29",
   "metadata": {},
   "outputs": [],
   "source": [
    "mass_train = pd.read_csv('../data/mass_case_description_train_set.csv', sep=',')\n",
    "mass_test = pd.read_csv('../data/mass_case_description_test_set.csv', sep=',')\n",
    "\n",
    "calc_train = pd.read_csv('../data/calc_case_description_train_set.csv', sep=',')\n",
    "calc_test = pd.read_csv('../data/calc_case_description_test_set.csv', sep=',')"
   ]
  },
  {
   "cell_type": "markdown",
   "id": "813b1003-6fb0-4773-91fc-f892b09707bc",
   "metadata": {},
   "source": [
    "Remove `mass`, `image file path`, `cropped image file path`"
   ]
  },
  {
   "cell_type": "code",
   "execution_count": null,
   "id": "b4481574-cdee-40ef-9928-e5abb75a5f81",
   "metadata": {},
   "outputs": [],
   "source": [
    "# Get column to predict\n"
   ]
  }
 ],
 "metadata": {
  "kernelspec": {
   "display_name": "Python 3 (ipykernel)",
   "language": "python",
   "name": "python3"
  },
  "language_info": {
   "codemirror_mode": {
    "name": "ipython",
    "version": 3
   },
   "file_extension": ".py",
   "mimetype": "text/x-python",
   "name": "python",
   "nbconvert_exporter": "python",
   "pygments_lexer": "ipython3",
   "version": "3.10.12"
  }
 },
 "nbformat": 4,
 "nbformat_minor": 5
}
